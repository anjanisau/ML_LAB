{
 "cells": [
  {
   "cell_type": "code",
   "execution_count": 1,
   "metadata": {},
   "outputs": [
    {
     "name": "stdout",
     "output_type": "stream",
     "text": [
      "hello world\n"
     ]
    }
   ],
   "source": [
    "print(\"hello world\")\n"
   ]
  },
  {
   "cell_type": "code",
   "execution_count": 2,
   "metadata": {},
   "outputs": [
    {
     "name": "stdout",
     "output_type": "stream",
     "text": [
      "10\n"
     ]
    }
   ],
   "source": [
    "a=10\n",
    "print(a)"
   ]
  },
  {
   "cell_type": "code",
   "execution_count": 3,
   "metadata": {},
   "outputs": [
    {
     "name": "stdout",
     "output_type": "stream",
     "text": [
      "30\n",
      "-10\n",
      "200\n",
      "0\n"
     ]
    }
   ],
   "source": [
    "a=10\n",
    "b=20\n",
    "print(a+b)\n",
    "print(a-b)\n",
    "print(a*b)\n",
    "print(a//b)"
   ]
  },
  {
   "cell_type": "code",
   "execution_count": 4,
   "metadata": {},
   "outputs": [
    {
     "name": "stdout",
     "output_type": "stream",
     "text": [
      "a: 65\n",
      "b 56\n"
     ]
    }
   ],
   "source": [
    "a=56\n",
    "b=65\n",
    "a=a+b\n",
    "b=a-b\n",
    "a=a-b\n",
    "print(\"a:\",a)\n",
    "print(\"b\",b)"
   ]
  },
  {
   "cell_type": "code",
   "execution_count": 5,
   "metadata": {},
   "outputs": [
    {
     "name": "stdout",
     "output_type": "stream",
     "text": [
      "c is greater\n"
     ]
    }
   ],
   "source": [
    "a=10\n",
    "b=20\n",
    "c=30\n",
    "if(a>b and a>c):\n",
    "    print(\"a is greater\")\n",
    "elif (b>c):\n",
    "    print(\"b is greater\")\n",
    "else:\n",
    "    print(\"c is greater\")"
   ]
  },
  {
   "cell_type": "code",
   "execution_count": 6,
   "metadata": {},
   "outputs": [
    {
     "name": "stdout",
     "output_type": "stream",
     "text": [
      "1\n",
      "2\n",
      "3\n",
      "4\n",
      "5\n",
      "6\n",
      "7\n"
     ]
    }
   ],
   "source": [
    "a=[1,2,3,4,5,6,7]\n",
    "for i in range (0,len(a)):\n",
    "    print(a[i])"
   ]
  },
  {
   "cell_type": "code",
   "execution_count": 7,
   "metadata": {},
   "outputs": [
    {
     "name": "stdout",
     "output_type": "stream",
     "text": [
      "0\n",
      "1\n",
      "2\n",
      "3\n",
      "4\n",
      "5\n",
      "6\n",
      "7\n",
      "8\n",
      "9\n",
      "10\n",
      "11\n",
      "12\n",
      "13\n",
      "14\n",
      "15\n",
      "16\n",
      "17\n",
      "18\n",
      "19\n"
     ]
    }
   ],
   "source": [
    "for i in range(20):\n",
    "    print(i)"
   ]
  },
  {
   "cell_type": "code",
   "execution_count": 8,
   "metadata": {},
   "outputs": [
    {
     "name": "stdout",
     "output_type": "stream",
     "text": [
      "enter a number3\n",
      "3\n"
     ]
    }
   ],
   "source": [
    "a=input(\"enter a number\")\n",
    "print(a)"
   ]
  },
  {
   "cell_type": "code",
   "execution_count": 16,
   "metadata": {},
   "outputs": [
    {
     "name": "stdout",
     "output_type": "stream",
     "text": [
      "Enter first number : 30\n",
      "Enter second number : 16\n",
      "Enter the operator : +\n",
      "Sum : 46\n"
     ]
    }
   ],
   "source": [
    "a=int(input(\"Enter first number : \"))\n",
    "b=int(input(\"Enter second number : \"))\n",
    "c=input(\"Enter the operator : \")\n",
    "if(c==\"+\"):\n",
    "    print(\"Sum :\",a+b)\n",
    "elif(c==\"-\"):\n",
    "    print(\"Difference :\",a-b)\n",
    "elif(c==\"*\"):\n",
    "    print(\"Product :\",a*b)\n",
    "elif(c==\"/\"):\n",
    "    print(\"Quotient :\",a/b)\n",
    "else:\n",
    "    print(\"Operator doesn't exit\")"
   ]
  },
  {
   "cell_type": "code",
   "execution_count": 17,
   "metadata": {},
   "outputs": [
    {
     "name": "stdout",
     "output_type": "stream",
     "text": [
      "Enter the string :asha\n",
      "Reverse of a string : ahsa\n",
      "Enter the another string :madguni\n",
      "Concatenation of a string : ashamadguni\n",
      "String c copy of b  madguni\n"
     ]
    }
   ],
   "source": [
    "a=input(\"Enter the string :\")\n",
    "print(\"Reverse of a string :\",a[::-1])\n",
    "b=input(\"Enter the another string :\")\n",
    "print(\"Concatenation of a string :\",a+b)\n",
    "c=b\n",
    "print(\"String c copy of b \",c)"
   ]
  },
  {
   "cell_type": "code",
   "execution_count": 23,
   "metadata": {},
   "outputs": [
    {
     "name": "stdout",
     "output_type": "stream",
     "text": [
      "String :apple\n",
      "app\n"
     ]
    }
   ],
   "source": [
    "a=input(\"String :\")\n",
    "print(a[0:3])"
   ]
  },
  {
   "cell_type": "code",
   "execution_count": 32,
   "metadata": {},
   "outputs": [
    {
     "name": "stdout",
     "output_type": "stream",
     "text": [
      "10\n",
      "20\n",
      "30\n",
      "40\n",
      "50\n",
      "60\n",
      "poped 60\n",
      "concatenation [10, 20, 50, 40, 50, 'hello', 10.8, 100, 'world', 300]\n",
      "list 1 [10, 20, 50, 40, 50]\n",
      "[20, 50, 40, 50]\n"
     ]
    }
   ],
   "source": [
    "lst1=[10,20,30,40,50,60]\n",
    "lst2=[\"hello\",10.8,100,\"world\"]\n",
    "for i in lst1:\n",
    "    print(i)\n",
    "lst1[2]=50\n",
    "lst2.append(300)\n",
    "print(\"poped\",lst1.pop())\n",
    "print(\"concatenation\",lst1+lst2)\n",
    "print(\"list 1\",lst1)\n",
    "print(lst1[1:6])"
   ]
  },
  {
   "cell_type": "code",
   "execution_count": 36,
   "metadata": {
    "scrolled": true
   },
   "outputs": [
    {
     "name": "stdout",
     "output_type": "stream",
     "text": [
      "20\n",
      "30\n",
      "16\n",
      "27\n",
      "one 100\n",
      "two hello\n",
      "three 120.8\n"
     ]
    }
   ],
   "source": [
    "dict1={1:20,2:30,3:16,4:27}\n",
    "dict2={\"one\":100,\"two\":\"hello\",\"three\":120.8}\n",
    "for key in dict1:\n",
    "    print(dict1[key])\n",
    "for key,value in dict2.items():\n",
    "    print(key,value)"
   ]
  },
  {
   "cell_type": "code",
   "execution_count": null,
   "metadata": {},
   "outputs": [],
   "source": []
  }
 ],
 "metadata": {
  "kernelspec": {
   "display_name": "Python 3",
   "language": "python",
   "name": "python3"
  },
  "language_info": {
   "codemirror_mode": {
    "name": "ipython",
    "version": 3
   },
   "file_extension": ".py",
   "mimetype": "text/x-python",
   "name": "python",
   "nbconvert_exporter": "python",
   "pygments_lexer": "ipython3",
   "version": "3.8.5"
  }
 },
 "nbformat": 4,
 "nbformat_minor": 4
}
