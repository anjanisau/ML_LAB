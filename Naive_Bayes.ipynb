{
  "nbformat": 4,
  "nbformat_minor": 0,
  "metadata": {
    "colab": {
      "name": "Naive_Bayes.ipynb",
      "provenance": []
    },
    "kernelspec": {
      "name": "python3",
      "display_name": "Python 3"
    },
    "language_info": {
      "name": "python"
    }
  },
  "cells": [
    {
      "cell_type": "code",
      "execution_count": 1,
      "metadata": {
        "colab": {
          "base_uri": "https://localhost:8080/",
          "height": 206
        },
        "id": "mUlUc0eu2JAm",
        "outputId": "48b64036-5674-4362-f2ed-123163f982a4"
      },
      "outputs": [
        {
          "output_type": "execute_result",
          "data": {
            "text/html": [
              "\n",
              "  <div id=\"df-875ab169-a079-495b-9a8b-7ea228a2e1c5\">\n",
              "    <div class=\"colab-df-container\">\n",
              "      <div>\n",
              "<style scoped>\n",
              "    .dataframe tbody tr th:only-of-type {\n",
              "        vertical-align: middle;\n",
              "    }\n",
              "\n",
              "    .dataframe tbody tr th {\n",
              "        vertical-align: top;\n",
              "    }\n",
              "\n",
              "    .dataframe thead th {\n",
              "        text-align: right;\n",
              "    }\n",
              "</style>\n",
              "<table border=\"1\" class=\"dataframe\">\n",
              "  <thead>\n",
              "    <tr style=\"text-align: right;\">\n",
              "      <th></th>\n",
              "      <th>no</th>\n",
              "      <th>pc</th>\n",
              "      <th>wbc</th>\n",
              "      <th>mc</th>\n",
              "      <th>ast</th>\n",
              "      <th>bc</th>\n",
              "      <th>ldh</th>\n",
              "      <th>diagnosis</th>\n",
              "    </tr>\n",
              "  </thead>\n",
              "  <tbody>\n",
              "    <tr>\n",
              "      <th>0</th>\n",
              "      <td>1</td>\n",
              "      <td>Low</td>\n",
              "      <td>Low</td>\n",
              "      <td>Low</td>\n",
              "      <td>High</td>\n",
              "      <td>Normal</td>\n",
              "      <td>Normal</td>\n",
              "      <td>True</td>\n",
              "    </tr>\n",
              "    <tr>\n",
              "      <th>1</th>\n",
              "      <td>2</td>\n",
              "      <td>Low</td>\n",
              "      <td>Low</td>\n",
              "      <td>Normal</td>\n",
              "      <td>High</td>\n",
              "      <td>Normal</td>\n",
              "      <td>High</td>\n",
              "      <td>True</td>\n",
              "    </tr>\n",
              "    <tr>\n",
              "      <th>2</th>\n",
              "      <td>3</td>\n",
              "      <td>Low</td>\n",
              "      <td>High</td>\n",
              "      <td>Normal</td>\n",
              "      <td>High</td>\n",
              "      <td>Normal</td>\n",
              "      <td>Normal</td>\n",
              "      <td>False</td>\n",
              "    </tr>\n",
              "    <tr>\n",
              "      <th>3</th>\n",
              "      <td>4</td>\n",
              "      <td>Low</td>\n",
              "      <td>High</td>\n",
              "      <td>Normal</td>\n",
              "      <td>High</td>\n",
              "      <td>High</td>\n",
              "      <td>Normal</td>\n",
              "      <td>True</td>\n",
              "    </tr>\n",
              "    <tr>\n",
              "      <th>4</th>\n",
              "      <td>5</td>\n",
              "      <td>Low</td>\n",
              "      <td>Normal</td>\n",
              "      <td>High</td>\n",
              "      <td>High</td>\n",
              "      <td>Normal</td>\n",
              "      <td>Normal</td>\n",
              "      <td>False</td>\n",
              "    </tr>\n",
              "  </tbody>\n",
              "</table>\n",
              "</div>\n",
              "      <button class=\"colab-df-convert\" onclick=\"convertToInteractive('df-875ab169-a079-495b-9a8b-7ea228a2e1c5')\"\n",
              "              title=\"Convert this dataframe to an interactive table.\"\n",
              "              style=\"display:none;\">\n",
              "        \n",
              "  <svg xmlns=\"http://www.w3.org/2000/svg\" height=\"24px\"viewBox=\"0 0 24 24\"\n",
              "       width=\"24px\">\n",
              "    <path d=\"M0 0h24v24H0V0z\" fill=\"none\"/>\n",
              "    <path d=\"M18.56 5.44l.94 2.06.94-2.06 2.06-.94-2.06-.94-.94-2.06-.94 2.06-2.06.94zm-11 1L8.5 8.5l.94-2.06 2.06-.94-2.06-.94L8.5 2.5l-.94 2.06-2.06.94zm10 10l.94 2.06.94-2.06 2.06-.94-2.06-.94-.94-2.06-.94 2.06-2.06.94z\"/><path d=\"M17.41 7.96l-1.37-1.37c-.4-.4-.92-.59-1.43-.59-.52 0-1.04.2-1.43.59L10.3 9.45l-7.72 7.72c-.78.78-.78 2.05 0 2.83L4 21.41c.39.39.9.59 1.41.59.51 0 1.02-.2 1.41-.59l7.78-7.78 2.81-2.81c.8-.78.8-2.07 0-2.86zM5.41 20L4 18.59l7.72-7.72 1.47 1.35L5.41 20z\"/>\n",
              "  </svg>\n",
              "      </button>\n",
              "      \n",
              "  <style>\n",
              "    .colab-df-container {\n",
              "      display:flex;\n",
              "      flex-wrap:wrap;\n",
              "      gap: 12px;\n",
              "    }\n",
              "\n",
              "    .colab-df-convert {\n",
              "      background-color: #E8F0FE;\n",
              "      border: none;\n",
              "      border-radius: 50%;\n",
              "      cursor: pointer;\n",
              "      display: none;\n",
              "      fill: #1967D2;\n",
              "      height: 32px;\n",
              "      padding: 0 0 0 0;\n",
              "      width: 32px;\n",
              "    }\n",
              "\n",
              "    .colab-df-convert:hover {\n",
              "      background-color: #E2EBFA;\n",
              "      box-shadow: 0px 1px 2px rgba(60, 64, 67, 0.3), 0px 1px 3px 1px rgba(60, 64, 67, 0.15);\n",
              "      fill: #174EA6;\n",
              "    }\n",
              "\n",
              "    [theme=dark] .colab-df-convert {\n",
              "      background-color: #3B4455;\n",
              "      fill: #D2E3FC;\n",
              "    }\n",
              "\n",
              "    [theme=dark] .colab-df-convert:hover {\n",
              "      background-color: #434B5C;\n",
              "      box-shadow: 0px 1px 3px 1px rgba(0, 0, 0, 0.15);\n",
              "      filter: drop-shadow(0px 1px 2px rgba(0, 0, 0, 0.3));\n",
              "      fill: #FFFFFF;\n",
              "    }\n",
              "  </style>\n",
              "\n",
              "      <script>\n",
              "        const buttonEl =\n",
              "          document.querySelector('#df-875ab169-a079-495b-9a8b-7ea228a2e1c5 button.colab-df-convert');\n",
              "        buttonEl.style.display =\n",
              "          google.colab.kernel.accessAllowed ? 'block' : 'none';\n",
              "\n",
              "        async function convertToInteractive(key) {\n",
              "          const element = document.querySelector('#df-875ab169-a079-495b-9a8b-7ea228a2e1c5');\n",
              "          const dataTable =\n",
              "            await google.colab.kernel.invokeFunction('convertToInteractive',\n",
              "                                                     [key], {});\n",
              "          if (!dataTable) return;\n",
              "\n",
              "          const docLinkHtml = 'Like what you see? Visit the ' +\n",
              "            '<a target=\"_blank\" href=https://colab.research.google.com/notebooks/data_table.ipynb>data table notebook</a>'\n",
              "            + ' to learn more about interactive tables.';\n",
              "          element.innerHTML = '';\n",
              "          dataTable['output_type'] = 'display_data';\n",
              "          await google.colab.output.renderOutput(dataTable, element);\n",
              "          const docLink = document.createElement('div');\n",
              "          docLink.innerHTML = docLinkHtml;\n",
              "          element.appendChild(docLink);\n",
              "        }\n",
              "      </script>\n",
              "    </div>\n",
              "  </div>\n",
              "  "
            ],
            "text/plain": [
              "   no   pc     wbc      mc   ast      bc     ldh  diagnosis\n",
              "0   1  Low     Low     Low  High  Normal  Normal       True\n",
              "1   2  Low     Low  Normal  High  Normal    High       True\n",
              "2   3  Low    High  Normal  High  Normal  Normal      False\n",
              "3   4  Low    High  Normal  High    High  Normal       True\n",
              "4   5  Low  Normal    High  High  Normal  Normal      False"
            ]
          },
          "metadata": {},
          "execution_count": 1
        }
      ],
      "source": [
        "import pandas as pd\n",
        "import numpy as np\n",
        "\n",
        "data = pd.read_csv('/content/sample_data/covid.csv')\n",
        "data.head()"
      ]
    },
    {
      "cell_type": "code",
      "source": [
        "from sklearn import preprocessing\n",
        "le = preprocessing.LabelEncoder()\n",
        "pc_encoded=le.fit_transform(data['pc'].values)\n",
        "wbc_encoded=le.fit_transform(data['wbc'].values)\n",
        "mc_encoded=le.fit_transform(data['mc'].values)\n",
        "ast_encoded=le.fit_transform(data['ast'].values)\n",
        "bc_encoded=le.fit_transform(data['bc'].values)\n",
        "ldh_encoded=le.fit_transform(data['ldh'].values)\n",
        "Y=le.fit_transform(data['diagnosis'].values)\n",
        "\n",
        "X=np.array(list(zip(pc_encoded,wbc_encoded,mc_encoded,ast_encoded,bc_encoded,ldh_encoded)))\n",
        "\n",
        "X"
      ],
      "metadata": {
        "colab": {
          "base_uri": "https://localhost:8080/"
        },
        "id": "N4_3n4nw44Es",
        "outputId": "1005486b-ea31-4ed8-9414-aa03c5ff6545"
      },
      "execution_count": 2,
      "outputs": [
        {
          "output_type": "execute_result",
          "data": {
            "text/plain": [
              "array([[1, 1, 1, 0, 1, 1],\n",
              "       [1, 1, 2, 0, 1, 0],\n",
              "       [1, 0, 2, 0, 1, 1],\n",
              "       [1, 0, 2, 0, 0, 1],\n",
              "       [1, 2, 0, 0, 1, 1],\n",
              "       [1, 2, 2, 0, 1, 0],\n",
              "       [2, 1, 1, 0, 1, 1],\n",
              "       [2, 0, 2, 0, 1, 1],\n",
              "       [2, 0, 2, 0, 0, 0],\n",
              "       [2, 2, 0, 0, 1, 1],\n",
              "       [2, 2, 0, 0, 1, 0],\n",
              "       [0, 1, 1, 1, 1, 1],\n",
              "       [0, 2, 0, 1, 1, 1],\n",
              "       [0, 2, 0, 1, 0, 0],\n",
              "       [0, 0, 2, 1, 1, 0],\n",
              "       [1, 2, 0, 0, 0, 1],\n",
              "       [2, 2, 0, 0, 0, 1],\n",
              "       [0, 1, 1, 1, 1, 0],\n",
              "       [2, 2, 2, 0, 1, 1],\n",
              "       [2, 0, 2, 0, 1, 0],\n",
              "       [2, 1, 2, 0, 1, 0],\n",
              "       [1, 0, 2, 0, 0, 0],\n",
              "       [1, 1, 1, 0, 0, 0],\n",
              "       [0, 0, 2, 1, 1, 1],\n",
              "       [0, 2, 2, 1, 1, 1]])"
            ]
          },
          "metadata": {},
          "execution_count": 2
        }
      ]
    },
    {
      "cell_type": "code",
      "source": [
        "Y"
      ],
      "metadata": {
        "colab": {
          "base_uri": "https://localhost:8080/"
        },
        "id": "uSWuQWO55BSi",
        "outputId": "1a1f482f-741f-438b-ffbe-2b56ac7dbd22"
      },
      "execution_count": 3,
      "outputs": [
        {
          "output_type": "execute_result",
          "data": {
            "text/plain": [
              "array([1, 1, 0, 1, 0, 1, 1, 0, 1, 0, 1, 1, 0, 1, 1, 0, 0, 1, 0, 1, 1, 1,\n",
              "       1, 1, 0])"
            ]
          },
          "metadata": {},
          "execution_count": 3
        }
      ]
    },
    {
      "cell_type": "code",
      "source": [
        "from sklearn.naive_bayes import MultinomialNB\n",
        "from sklearn.metrics import accuracy_score\n",
        "from sklearn.metrics import classification_report\n",
        "model = MultinomialNB()"
      ],
      "metadata": {
        "id": "HZm-iekb5HA2"
      },
      "execution_count": 4,
      "outputs": []
    },
    {
      "cell_type": "code",
      "source": [
        "from sklearn.model_selection import train_test_split\n",
        "X_train,X_test,Y_train,Y_test=train_test_split(X,Y)\n",
        "model.fit(X_train, Y_train)\n",
        "y_pred = model.predict(X_test)\n",
        "\n",
        "print(\"Accuracy:\",accuracy_score(Y_test, y_pred))\n",
        "\n",
        "print(\"\\nReport\")\n",
        "print(classification_report(Y_test,y_pred))"
      ],
      "metadata": {
        "colab": {
          "base_uri": "https://localhost:8080/"
        },
        "id": "C87TrNqk5KZE",
        "outputId": "c2ca5d70-dc3b-4e75-b234-28dbb33bac29"
      },
      "execution_count": 5,
      "outputs": [
        {
          "output_type": "stream",
          "name": "stdout",
          "text": [
            "Accuracy: 0.5714285714285714\n",
            "\n",
            "Report\n",
            "              precision    recall  f1-score   support\n",
            "\n",
            "           0       0.33      0.50      0.40         2\n",
            "           1       0.75      0.60      0.67         5\n",
            "\n",
            "    accuracy                           0.57         7\n",
            "   macro avg       0.54      0.55      0.53         7\n",
            "weighted avg       0.63      0.57      0.59         7\n",
            "\n"
          ]
        }
      ]
    },
    {
      "cell_type": "code",
      "source": [
        "import matplotlib.pyplot as plt\n",
        "from sklearn import metrics\n",
        "fpr,tpr,threshods=metrics.roc_curve(Y_test,y_pred,pos_label=1)\n",
        "plt.plot(fpr,tpr)\n",
        "plt.xlabel(\"False Positive Rate\")\n",
        "plt.ylabel(\"True Positive Rate\")\n",
        "plt.title(\"ROC curve\")\n",
        "plt.show()\n",
        "\n",
        "\n",
        "print(\"AUC of the prediction:{0}\".format(metrics.auc(fpr,tpr)))"
      ],
      "metadata": {
        "colab": {
          "base_uri": "https://localhost:8080/",
          "height": 312
        },
        "id": "eY7WWuE4cSo_",
        "outputId": "e2e1a3a3-6bbd-47b2-8bce-9be35d05db3a"
      },
      "execution_count": 8,
      "outputs": [
        {
          "output_type": "display_data",
          "data": {
            "image/png": "[encoded data removed]",
            "text/plain": [
              "<Figure size 432x288 with 1 Axes>"
            ]
          },
          "metadata": {
            "needs_background": "light"
          }
        },
        {
          "output_type": "stream",
          "name": "stdout",
          "text": [
            "AUC of the prediction:0.55\n"
          ]
        }
      ]
    }
  ]
}