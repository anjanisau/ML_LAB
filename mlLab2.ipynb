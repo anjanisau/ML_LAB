{
 "cells": [
  {
   "cell_type": "code",
   "execution_count": 8,
   "metadata": {},
   "outputs": [
    {
     "name": "stdout",
     "output_type": "stream",
     "text": [
      "1 2 3 1 2 3 2 2 3 3 3 4\n",
      "Mean is : 2.4166666666666665\n",
      "Mean using inbuilt function  2.4166666666666665\n",
      "[1, 1, 2, 2, 2, 2, 3, 3, 3, 3, 3, 4]\n",
      "Median is : 2.5\n",
      "Median using inbuilt function  2.5\n",
      "Mode is : 3\n",
      "Mode using inbuilt function  3\n",
      "Variance is : 0.8106060606060604\n",
      "Variance using inbuilt function  0.8106060606060607\n",
      "Standard Deviation is : 0.9003366373785199\n",
      "Standard Deviation using inbuilt function  0.90033663737852\n"
     ]
    }
   ],
   "source": [
    "import statistics as st\n",
    "import math \n",
    "\n",
    "\n",
    "arr=list(map(int,input().split()))\n",
    "mean=sum(arr)/len(arr)\n",
    "print(\"Mean is :\",mean)\n",
    "print(\"Mean using inbuilt function \",st.mean(arr))\n",
    "\n",
    "\n",
    "arr.sort()\n",
    "if(len(arr)%2==0):\n",
    "    median=(arr[(len(arr)//2)-1]+arr[len(arr)//2])/2\n",
    "else:\n",
    "    median=arr[(len(arr)//2)]\n",
    "print(arr)\n",
    "print(\"Median is :\",median)\n",
    "print(\"Median using inbuilt function \",st.median(arr))\n",
    "\n",
    "\n",
    "i=0\n",
    "c=[]\n",
    "l=[]\n",
    "\n",
    "while(i<len(arr)):\n",
    "    j=0\n",
    "    count=0\n",
    "    while(j<len(arr)):\n",
    "        if(arr[i]==arr[j]):\n",
    "            count+=1\n",
    "        j+=1\n",
    "    c.append(count)\n",
    "    l.append(arr[i])\n",
    "    i+=count\n",
    "ind=c.index(max(c))\n",
    "modee=l[ind]\n",
    "print(\"Mode is :\",modee)\n",
    "print(\"Mode using inbuilt function \",st.mode(arr))\n",
    "\n",
    "sums=0\n",
    "for i in arr:\n",
    "    sums+=(i-mean)**2\n",
    "variance=sums/(len(arr)-1)\n",
    "print(\"Variance is :\",variance)\n",
    "print(\"Variance using inbuilt function \",st.variance(arr))\n",
    "\n",
    "\n",
    "deviation=math.sqrt(variance)\n",
    "print(\"Standard Deviation is :\",deviation)\n",
    "print(\"Standard Deviation using inbuilt function \",st.stdev(arr))"
   ]
  },
  {
   "cell_type": "code",
   "execution_count": null,
   "metadata": {},
   "outputs": [],
   "source": []
  }
 ],
 "metadata": {
  "kernelspec": {
   "display_name": "Python 3",
   "language": "python",
   "name": "python3"
  },
  "language_info": {
   "codemirror_mode": {
    "name": "ipython",
    "version": 3
   },
   "file_extension": ".py",
   "mimetype": "text/x-python",
   "name": "python",
   "nbconvert_exporter": "python",
   "pygments_lexer": "ipython3",
   "version": "3.8.5"
  }
 },
 "nbformat": 4,
 "nbformat_minor": 4
}
