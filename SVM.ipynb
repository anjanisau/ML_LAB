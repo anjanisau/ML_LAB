{
  "nbformat": 4,
  "nbformat_minor": 0,
  "metadata": {
    "colab": {
      "name": "SVM.ipynb",
      "provenance": []
    },
    "kernelspec": {
      "name": "python3",
      "display_name": "Python 3"
    },
    "language_info": {
      "name": "python"
    }
  },
  "cells": [
    {
      "cell_type": "code",
      "execution_count": 2,
      "metadata": {
        "colab": {
          "base_uri": "https://localhost:8080/"
        },
        "id": "H_SdGsBXuB0o",
        "outputId": "984cd6c1-19b7-4d91-ca9f-439e6465cfdc"
      },
      "outputs": [
        {
          "output_type": "stream",
          "name": "stdout",
          "text": [
            "dataset       Id       RI     Na    Mg    Al    Si      K    Ca    Ba   Fe  Type\n",
            "0      1  1.52101  13.64  4.49  1.10  71.78  0.06  8.75  0.00  0.0     1\n",
            "1      2  1.51761  13.89  3.60  1.36  72.73  0.48  7.83  0.00  0.0     1\n",
            "2      3  1.51618  13.53  3.55  1.54  72.99  0.39  7.78  0.00  0.0     1\n",
            "3      4  1.51766  13.21  3.69  1.29  72.61  0.57  8.22  0.00  0.0     1\n",
            "4      5  1.51742  13.27  3.62  1.24  73.08  0.55  8.07  0.00  0.0     1\n",
            "..   ...      ...    ...   ...   ...    ...   ...   ...   ...  ...   ...\n",
            "209  210  1.51623  14.14  0.00  2.88  72.61  0.08  9.18  1.06  0.0     7\n",
            "210  211  1.51685  14.92  0.00  1.99  73.06  0.00  8.40  1.59  0.0     7\n",
            "211  212  1.52065  14.36  0.00  2.02  73.42  0.00  8.44  1.64  0.0     7\n",
            "212  213  1.51651  14.38  0.00  1.94  73.61  0.00  8.48  1.57  0.0     7\n",
            "213  214  1.51711  14.23  0.00  2.08  73.36  0.00  8.62  1.67  0.0     7\n",
            "\n",
            "[214 rows x 11 columns]\n",
            "[[-1.72397593  0.87286765  0.28495326 ... -0.35287683 -0.5864509\n",
            "  -0.84827468]\n",
            " [-1.70778837 -0.24933347  0.59181718 ... -0.35287683 -0.5864509\n",
            "  -0.84827468]\n",
            " [-1.6916008  -0.72131806  0.14993314 ... -0.35287683 -0.5864509\n",
            "  -0.84827468]\n",
            " ...\n",
            " [ 1.6916008   0.75404635  1.16872135 ...  2.95320036 -0.5864509\n",
            "   2.01047778]\n",
            " [ 1.70778837 -0.61239854  1.19327046 ...  2.81208731 -0.5864509\n",
            "   2.01047778]\n",
            " [ 1.72397593 -0.41436305  1.00915211 ...  3.01367739 -0.5864509\n",
            "   2.01047778]]\n"
          ]
        }
      ],
      "source": [
        "from sklearn.svm import SVC\n",
        "import numpy as np\n",
        "import pandas as pd\n",
        "from matplotlib import pyplot as plt\n",
        "\n",
        "\n",
        "\n",
        "\n",
        "\n",
        "df=pd.read_csv(\"/content/sample_data/glass.csv\")\n",
        "print(\"dataset\",df)\n",
        "\n",
        "from sklearn.preprocessing import StandardScaler\n",
        "scaler = StandardScaler()\n",
        "print(scaler.fit_transform(df))\n",
        "\n",
        "x=df.drop('Type',axis=1)\n",
        "y=df.Type\n",
        "\n",
        "\n",
        "\n",
        "\n"
      ]
    },
    {
      "cell_type": "code",
      "source": [
        "from sklearn.model_selection import train_test_split\n",
        "x_train,x_test,y_train,y_test=train_test_split(x,y,test_size=0.3)\n",
        "\n",
        "\n",
        "from sklearn import svm\n",
        "ml=svm.SVC(kernel='linear')\n",
        "ml.fit(x_train,y_train)\n",
        "\n",
        "\n",
        "print(ml.support_vectors_)"
      ],
      "metadata": {
        "colab": {
          "base_uri": "https://localhost:8080/"
        },
        "id": "2pSNAK-xvrL7",
        "outputId": "8267d79d-9498-4a9f-ae2a-b796aeea0c78"
      },
      "execution_count": 3,
      "outputs": [
        {
          "output_type": "stream",
          "name": "stdout",
          "text": [
            "[[6.90000e+01 1.52152e+00 1.31200e+01 3.58000e+00 9.00000e-01 7.22000e+01\n",
            "  2.30000e-01 9.82000e+00 0.00000e+00 1.60000e-01]\n",
            " [7.20000e+01 1.51848e+00 1.36400e+01 3.87000e+00 1.27000e+00 7.19600e+01\n",
            "  5.40000e-01 8.32000e+00 0.00000e+00 3.20000e-01]\n",
            " [7.10000e+01 1.51574e+00 1.48600e+01 3.67000e+00 1.74000e+00 7.18700e+01\n",
            "  1.60000e-01 7.36000e+00 0.00000e+00 1.20000e-01]\n",
            " [1.46000e+02 1.51839e+00 1.28500e+01 3.67000e+00 1.24000e+00 7.25700e+01\n",
            "  6.20000e-01 8.68000e+00 0.00000e+00 3.50000e-01]\n",
            " [1.63000e+02 1.52211e+00 1.41900e+01 3.78000e+00 9.10000e-01 7.13600e+01\n",
            "  2.30000e-01 9.14000e+00 0.00000e+00 3.70000e-01]\n",
            " [1.47000e+02 1.51769e+00 1.36500e+01 3.66000e+00 1.11000e+00 7.27700e+01\n",
            "  1.10000e-01 8.60000e+00 0.00000e+00 0.00000e+00]\n",
            " [1.64000e+02 1.51514e+00 1.40100e+01 2.68000e+00 3.50000e+00 6.98900e+01\n",
            "  1.68000e+00 5.87000e+00 2.20000e+00 0.00000e+00]\n",
            " [1.75000e+02 1.52058e+00 1.28500e+01 1.61000e+00 2.17000e+00 7.21800e+01\n",
            "  7.60000e-01 9.70000e+00 2.40000e-01 5.10000e-01]\n",
            " [1.66000e+02 1.52171e+00 1.15600e+01 1.88000e+00 1.56000e+00 7.28600e+01\n",
            "  4.70000e-01 1.14100e+01 0.00000e+00 0.00000e+00]\n",
            " [1.85000e+02 1.51115e+00 1.73800e+01 0.00000e+00 3.40000e-01 7.54100e+01\n",
            "  0.00000e+00 6.65000e+00 0.00000e+00 0.00000e+00]\n",
            " [1.83000e+02 1.51916e+00 1.41500e+01 0.00000e+00 2.09000e+00 7.27400e+01\n",
            "  0.00000e+00 1.08800e+01 0.00000e+00 0.00000e+00]\n",
            " [1.78000e+02 1.51937e+00 1.37900e+01 2.41000e+00 1.19000e+00 7.27600e+01\n",
            "  0.00000e+00 9.77000e+00 0.00000e+00 0.00000e+00]\n",
            " [1.92000e+02 1.51602e+00 1.48500e+01 0.00000e+00 2.38000e+00 7.32800e+01\n",
            "  0.00000e+00 8.76000e+00 6.40000e-01 9.00000e-02]\n",
            " [1.86000e+02 1.51131e+00 1.36900e+01 3.20000e+00 1.81000e+00 7.28100e+01\n",
            "  1.76000e+00 5.43000e+00 1.19000e+00 0.00000e+00]\n",
            " [1.89000e+02 1.52247e+00 1.48600e+01 2.20000e+00 2.06000e+00 7.02600e+01\n",
            "  7.60000e-01 9.76000e+00 0.00000e+00 0.00000e+00]]\n"
          ]
        }
      ]
    },
    {
      "cell_type": "code",
      "source": [
        "print(ml.n_support_)"
      ],
      "metadata": {
        "colab": {
          "base_uri": "https://localhost:8080/"
        },
        "id": "May0tIvbvy07",
        "outputId": "61f218a7-3151-49e5-9b8d-b048c6955ed5"
      },
      "execution_count": 4,
      "outputs": [
        {
          "output_type": "stream",
          "name": "stdout",
          "text": [
            "[1 3 2 3 3 3]\n"
          ]
        }
      ]
    },
    {
      "cell_type": "code",
      "source": [
        "y_pred=ml.predict(x_test)\n",
        "\n",
        "from sklearn.metrics import accuracy_score,confusion_matrix,classification_report\n",
        "print(\"Accuracy Score\",accuracy_score(y_test,y_pred))\n",
        "\n",
        "print(\"Confusion Matrix\",confusion_matrix(y_test,y_pred))\n",
        "\n",
        "print(\"Classification Report\\n\",classification_report(y_test,y_pred))"
      ],
      "metadata": {
        "colab": {
          "base_uri": "https://localhost:8080/"
        },
        "id": "hFTR6aeLv4Js",
        "outputId": "e3ce8829-ff59-4512-9ad4-578023a008c3"
      },
      "execution_count": 5,
      "outputs": [
        {
          "output_type": "stream",
          "name": "stdout",
          "text": [
            "Accuracy Score 1.0\n",
            "Confusion Matrix [[22  0  0  0  0  0]\n",
            " [ 0 26  0  0  0  0]\n",
            " [ 0  0  5  0  0  0]\n",
            " [ 0  0  0  5  0  0]\n",
            " [ 0  0  0  0  2  0]\n",
            " [ 0  0  0  0  0  5]]\n",
            "Classification Report\n",
            "               precision    recall  f1-score   support\n",
            "\n",
            "           1       1.00      1.00      1.00        22\n",
            "           2       1.00      1.00      1.00        26\n",
            "           3       1.00      1.00      1.00         5\n",
            "           5       1.00      1.00      1.00         5\n",
            "           6       1.00      1.00      1.00         2\n",
            "           7       1.00      1.00      1.00         5\n",
            "\n",
            "    accuracy                           1.00        65\n",
            "   macro avg       1.00      1.00      1.00        65\n",
            "weighted avg       1.00      1.00      1.00        65\n",
            "\n"
          ]
        }
      ]
    },
    {
      "cell_type": "code",
      "source": [
        "model1=SVC(kernel='sigmoid')\n",
        "model2=SVC(kernel='poly')\n",
        "model3=SVC(kernel='rbf')\n",
        "\n",
        "#With Different Kernels\n",
        "\n",
        "model1.fit(x_train,y_train)\n",
        "model2.fit(x_train,y_train)\n",
        "model3.fit(x_train,y_train)"
      ],
      "metadata": {
        "colab": {
          "base_uri": "https://localhost:8080/"
        },
        "id": "ztthSKmLwU2A",
        "outputId": "15874f8f-6547-4b87-b5cf-82d638ddf39d"
      },
      "execution_count": 6,
      "outputs": [
        {
          "output_type": "execute_result",
          "data": {
            "text/plain": [
              "SVC()"
            ]
          },
          "metadata": {},
          "execution_count": 6
        }
      ]
    },
    {
      "cell_type": "code",
      "source": [
        "ypred1=model1.predict(x_test)\n",
        "ypred2=model2.predict(x_test)\n",
        "ypred3=model3.predict(x_test)\n",
        "\n",
        "print(\"Accuracy Score of kernel 1\",accuracy_score(y_test,ypred1))\n",
        "\n",
        "print(\"Accuracy Score of kernel 2\",accuracy_score(y_test,ypred2))\n",
        "\n",
        "print(\"Accuracy Score of kernel 3\",accuracy_score(y_test,ypred3))\n",
        "\n",
        "\n",
        "\n",
        "\n",
        "\n"
      ],
      "metadata": {
        "colab": {
          "base_uri": "https://localhost:8080/"
        },
        "id": "pmlzsO1MwbOk",
        "outputId": "bbf61d0b-2152-4826-eb4a-c9bd11c30e2c"
      },
      "execution_count": 7,
      "outputs": [
        {
          "output_type": "stream",
          "name": "stdout",
          "text": [
            "Accuracy Score of kernel 1 0.676923076923077\n",
            "Accuracy Score of kernel 2 0.9538461538461539\n",
            "Accuracy Score of kernel 3 0.8153846153846154\n"
          ]
        }
      ]
    }
  ]
}